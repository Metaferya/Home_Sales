{
  "cells": [
    {
      "cell_type": "code",
      "execution_count": 1,
      "metadata": {
        "colab": {
          "base_uri": "https://localhost:8080/"
        },
        "id": "a_KW73O2e3dw",
        "outputId": "dc763282-7f8c-4369-bee8-7d67257bc310"
      },
      "outputs": [
        {
          "output_type": "stream",
          "name": "stdout",
          "text": [
            "\r0% [Working]\r            \rGet:1 http://security.ubuntu.com/ubuntu jammy-security InRelease [129 kB]\n",
            "Get:2 https://cloud.r-project.org/bin/linux/ubuntu jammy-cran40/ InRelease [3,632 B]\n",
            "Hit:3 https://developer.download.nvidia.com/compute/cuda/repos/ubuntu2204/x86_64  InRelease\n",
            "Hit:4 http://archive.ubuntu.com/ubuntu jammy InRelease\n",
            "Get:5 http://archive.ubuntu.com/ubuntu jammy-updates InRelease [128 kB]\n",
            "Get:6 https://r2u.stat.illinois.edu/ubuntu jammy InRelease [6,555 B]\n",
            "Hit:7 https://ppa.launchpadcontent.net/deadsnakes/ppa/ubuntu jammy InRelease\n",
            "Get:8 http://archive.ubuntu.com/ubuntu jammy-backports InRelease [127 kB]\n",
            "Hit:9 https://ppa.launchpadcontent.net/graphics-drivers/ppa/ubuntu jammy InRelease\n",
            "Hit:10 https://ppa.launchpadcontent.net/ubuntugis/ppa/ubuntu jammy InRelease\n",
            "Get:11 https://r2u.stat.illinois.edu/ubuntu jammy/main all Packages [8,763 kB]\n",
            "Get:12 http://security.ubuntu.com/ubuntu jammy-security/universe amd64 Packages [1,237 kB]\n",
            "Get:13 https://r2u.stat.illinois.edu/ubuntu jammy/main amd64 Packages [2,678 kB]\n",
            "Get:14 http://security.ubuntu.com/ubuntu jammy-security/main amd64 Packages [2,692 kB]\n",
            "Get:15 http://archive.ubuntu.com/ubuntu jammy-updates/universe amd64 Packages [1,535 kB]\n",
            "Get:16 http://archive.ubuntu.com/ubuntu jammy-updates/main amd64 Packages [3,003 kB]\n",
            "Get:17 http://archive.ubuntu.com/ubuntu jammy-updates/restricted amd64 Packages [3,962 kB]\n",
            "Get:18 http://archive.ubuntu.com/ubuntu jammy-backports/main amd64 Packages [112 kB]\n",
            "Get:19 http://archive.ubuntu.com/ubuntu jammy-backports/universe amd64 Packages [38.5 kB]\n",
            "Fetched 24.4 MB in 10s (2,456 kB/s)\n",
            "Reading package lists... Done\n",
            "W: Skipping acquire of configured file 'main/source/Sources' as repository 'https://r2u.stat.illinois.edu/ubuntu jammy InRelease' does not seem to provide it (sources.list entry misspelt?)\n"
          ]
        }
      ],
      "source": [
        "import os\n",
        "# Find the latest version of spark 3.x  from http://www.apache.org/dist/spark/ and enter as the spark version\n",
        "# For example:\n",
        "# spark_version = 'spark-3.5.5'\n",
        "spark_version = 'spark-3.5.5'\n",
        "os.environ['SPARK_VERSION']=spark_version\n",
        "\n",
        "# Install Spark and Java\n",
        "!apt-get update\n",
        "!apt-get install openjdk-11-jdk-headless -qq > /dev/null\n",
        "!wget -q http://www.apache.org/dist/spark/$SPARK_VERSION/$SPARK_VERSION-bin-hadoop3.tgz\n",
        "!tar xf $SPARK_VERSION-bin-hadoop3.tgz\n",
        "!pip install -q findspark\n",
        "\n",
        "# Set Environment Variables\n",
        "os.environ[\"JAVA_HOME\"] = \"/usr/lib/jvm/java-11-openjdk-amd64\"\n",
        "os.environ[\"SPARK_HOME\"] = f\"/content/{spark_version}-bin-hadoop3\"\n",
        "\n",
        "# Start a SparkSession\n",
        "import findspark\n",
        "findspark.init()"
      ]
    },
    {
      "cell_type": "code",
      "execution_count": 2,
      "metadata": {
        "id": "2XbWNf1Te5fM"
      },
      "outputs": [],
      "source": [
        "# Import packages\n",
        "from pyspark.sql import SparkSession\n",
        "from pyspark.sql.functions import col, round\n",
        "import time\n",
        "\n",
        "# Create a SparkSession\n",
        "spark = SparkSession.builder.appName(\"SparkSQL\").getOrCreate()"
      ]
    },
    {
      "cell_type": "code",
      "execution_count": 3,
      "metadata": {
        "id": "wOJqxG_RPSwp"
      },
      "outputs": [],
      "source": [
        "# 1. Read the home_sales_revised.csv from the provided AWS S3 bucket location into a PySpark DataFrame.\n",
        "from pyspark import SparkFiles\n",
        "url = \"https://2u-data-curriculum-team.s3.amazonaws.com/dataviz-classroom/v1.2/22-big-data/home_sales_revised.csv\"\n",
        "spark.sparkContext.addFile(url)\n",
        "df = spark.read.csv(SparkFiles.get(\"home_sales_revised.csv\"), header=True, inferSchema=True)"
      ]
    },
    {
      "cell_type": "code",
      "execution_count": 4,
      "metadata": {
        "id": "RoljcJ7WPpnm"
      },
      "outputs": [],
      "source": [
        "# 2. Create a temporary view of the DataFrame.\n",
        "df.createOrReplaceTempView(\"home_sales\")"
      ]
    },
    {
      "cell_type": "code",
      "execution_count": 5,
      "metadata": {
        "id": "L6fkwOeOmqvq",
        "colab": {
          "base_uri": "https://localhost:8080/"
        },
        "outputId": "2af183a1-fb52-44d8-ebd4-706d656dd54b"
      },
      "outputs": [
        {
          "output_type": "stream",
          "name": "stdout",
          "text": [
            "+---------+---------+\n",
            "|year_sold|avg_price|\n",
            "+---------+---------+\n",
            "|     2019| 300263.7|\n",
            "|     2020|298353.78|\n",
            "|     2021|301819.44|\n",
            "|     2022|296363.88|\n",
            "+---------+---------+\n",
            "\n"
          ]
        }
      ],
      "source": [
        "# 3. What is the average price for a four bedroom house sold per year, rounded to two decimal places?\n",
        "avg_price_4_bedrooms = spark.sql(\"\"\"\n",
        "  SELECT YEAR(date) as year_sold, ROUND(AVG(price), 2) as avg_price\n",
        "  FROM home_sales\n",
        "  WHERE bedrooms = 4\n",
        "  GROUP BY year_sold\n",
        "  ORDER BY year_sold\n",
        "\"\"\")\n",
        "avg_price_4_bedrooms.show()"
      ]
    },
    {
      "cell_type": "code",
      "execution_count": 6,
      "metadata": {
        "id": "l8p_tUS8h8it",
        "colab": {
          "base_uri": "https://localhost:8080/"
        },
        "outputId": "2f66f835-2144-487b-f06a-68627c4f27d7"
      },
      "outputs": [
        {
          "output_type": "stream",
          "name": "stdout",
          "text": [
            "+----------+---------+\n",
            "|date_built|avg_price|\n",
            "+----------+---------+\n",
            "|      2010|292859.62|\n",
            "|      2011|291117.47|\n",
            "|      2012|293683.19|\n",
            "|      2013|295962.27|\n",
            "|      2014|290852.27|\n",
            "|      2015| 288770.3|\n",
            "|      2016|290555.07|\n",
            "|      2017|292676.79|\n",
            "+----------+---------+\n",
            "\n"
          ]
        }
      ],
      "source": [
        "# 4. What is the average price of a home for each year the home was built,\n",
        "# that have 3 bedrooms and 3 bathrooms, rounded to two decimal places?\n",
        "avg_price_3bed_3bath = spark.sql(\"\"\"\n",
        "  SELECT date_built, ROUND(AVG(price), 2) as avg_price\n",
        "  FROM home_sales\n",
        "  WHERE bedrooms = 3 AND bathrooms = 3\n",
        "  GROUP BY date_built\n",
        "  ORDER BY date_built\n",
        "\"\"\")\n",
        "avg_price_3bed_3bath.show()"
      ]
    },
    {
      "cell_type": "code",
      "execution_count": 7,
      "metadata": {
        "id": "Y-Eytz64liDU",
        "colab": {
          "base_uri": "https://localhost:8080/"
        },
        "outputId": "8816ab32-a8e6-4063-d947-1e0cb6542631"
      },
      "outputs": [
        {
          "output_type": "stream",
          "name": "stdout",
          "text": [
            "+----------+---------+\n",
            "|date_built|avg_price|\n",
            "+----------+---------+\n",
            "|      2010|285010.22|\n",
            "|      2011|276553.81|\n",
            "|      2012|307539.97|\n",
            "|      2013|303676.79|\n",
            "|      2014|298264.72|\n",
            "|      2015|297609.97|\n",
            "|      2016| 293965.1|\n",
            "|      2017|280317.58|\n",
            "+----------+---------+\n",
            "\n"
          ]
        }
      ],
      "source": [
        "# 5. What is the average price of a home for each year the home was built,\n",
        "# that have 3 bedrooms, 3 bathrooms, with two floors,\n",
        "# and are greater than or equal to 2,000 square feet, rounded to two decimal places?\n",
        "avg_price_filtered = spark.sql(\"\"\"\n",
        "  SELECT date_built, ROUND(AVG(price), 2) as avg_price\n",
        "  FROM home_sales\n",
        "  WHERE bedrooms = 3 AND bathrooms = 3 AND floors = 2 AND sqft_living >=2000\n",
        "  GROUP BY date_built\n",
        "  ORDER BY date_built\n",
        "\"\"\")\n",
        "avg_price_filtered.show()"
      ]
    },
    {
      "cell_type": "code",
      "execution_count": 8,
      "metadata": {
        "colab": {
          "base_uri": "https://localhost:8080/"
        },
        "id": "GUrfgOX1pCRd",
        "outputId": "02959820-8e96-4091-f0e4-440d3879532e"
      },
      "outputs": [
        {
          "output_type": "stream",
          "name": "stdout",
          "text": [
            "+----+----------+\n",
            "|view| avg_price|\n",
            "+----+----------+\n",
            "|  91|1137372.73|\n",
            "|  97|1129040.15|\n",
            "|  84|1117233.13|\n",
            "|  75|1114042.94|\n",
            "|  89|1107839.15|\n",
            "|  78|1080649.37|\n",
            "|  77|1076205.56|\n",
            "|  87| 1072285.2|\n",
            "|  86|1070444.25|\n",
            "|  82| 1063498.0|\n",
            "|  90|1062654.16|\n",
            "|  99|1061201.42|\n",
            "|  76|1058802.78|\n",
            "|  85|1056336.74|\n",
            "|  95| 1054325.6|\n",
            "|  98|1053739.33|\n",
            "|  81|1053472.79|\n",
            "|  83|1033965.93|\n",
            "|  94| 1033536.2|\n",
            "|  88|1031719.35|\n",
            "+----+----------+\n",
            "only showing top 20 rows\n",
            "\n",
            "--- 2.313275098800659 seconds ---\n"
          ]
        }
      ],
      "source": [
        "# 6. What is the average price of a home per \"view\" rating, rounded to two decimal places,\n",
        "# having an average home price greater than or equal to $350,000? Order by descending view rating.\n",
        "# Although this is a small dataset, determine the run time for this query.\n",
        "start_time = time.time()\n",
        "avg_price_by_view = spark.sql(\"\"\"\n",
        "  SELECT view, ROUND(AVG(price), 2) as avg_price\n",
        "  FROM home_sales\n",
        "  GROUP BY view\n",
        "  HAVING avg_price >= 350000\n",
        "  ORDER BY avg_price DESC\n",
        "\"\"\")\n",
        "avg_price_by_view.show()\n",
        "print(\"--- %s seconds ---\" % (time.time() - start_time))"
      ]
    },
    {
      "cell_type": "code",
      "execution_count": 9,
      "metadata": {
        "id": "KAhk3ZD2tFy8",
        "colab": {
          "base_uri": "https://localhost:8080/"
        },
        "outputId": "5c94e45e-ad1b-4590-caf1-5815a7f858a1"
      },
      "outputs": [
        {
          "output_type": "execute_result",
          "data": {
            "text/plain": [
              "DataFrame[]"
            ]
          },
          "metadata": {},
          "execution_count": 9
        }
      ],
      "source": [
        "# 7. Cache the the temporary table home_sales.\n",
        "spark.sql(\"CACHE TABLE home_sales\")"
      ]
    },
    {
      "cell_type": "code",
      "execution_count": 10,
      "metadata": {
        "id": "4opVhbvxtL-i",
        "colab": {
          "base_uri": "https://localhost:8080/"
        },
        "outputId": "05cc7bb1-2104-4d80-8b9a-7d3f160c492e"
      },
      "outputs": [
        {
          "output_type": "execute_result",
          "data": {
            "text/plain": [
              "True"
            ]
          },
          "metadata": {},
          "execution_count": 10
        }
      ],
      "source": [
        "# 8. Check if the table is cached.\n",
        "spark.catalog.isCached('home_sales')"
      ]
    },
    {
      "cell_type": "code",
      "execution_count": 11,
      "metadata": {
        "colab": {
          "base_uri": "https://localhost:8080/"
        },
        "id": "5GnL46lwTSEk",
        "outputId": "a8112dbc-c436-4d0a-b0c1-cbf94914ee7e"
      },
      "outputs": [
        {
          "output_type": "stream",
          "name": "stdout",
          "text": [
            "+----+----------+\n",
            "|view| avg_price|\n",
            "+----+----------+\n",
            "|  91|1137372.73|\n",
            "|  97|1129040.15|\n",
            "|  84|1117233.13|\n",
            "|  75|1114042.94|\n",
            "|  89|1107839.15|\n",
            "|  78|1080649.37|\n",
            "|  77|1076205.56|\n",
            "|  87| 1072285.2|\n",
            "|  86|1070444.25|\n",
            "|  82| 1063498.0|\n",
            "|  90|1062654.16|\n",
            "|  99|1061201.42|\n",
            "|  76|1058802.78|\n",
            "|  85|1056336.74|\n",
            "|  95| 1054325.6|\n",
            "|  98|1053739.33|\n",
            "|  81|1053472.79|\n",
            "|  83|1033965.93|\n",
            "|  94| 1033536.2|\n",
            "|  88|1031719.35|\n",
            "+----+----------+\n",
            "only showing top 20 rows\n",
            "\n",
            "--- 0.6811249256134033 seconds ---\n"
          ]
        }
      ],
      "source": [
        "# 9. Using the cached data, run the last query above, that calculates\n",
        "# the average price of a home per \"view\" rating, rounded to two decimal places,\n",
        "# having an average home price greater than or equal to $350,000.\n",
        "# Determine the runtime and compare it to the uncached runtime.\n",
        "start_time = time.time()\n",
        "avg_price_by_view_cached = spark.sql(\"\"\"\n",
        "  SELECT view, ROUND(AVG(price), 2) as avg_price\n",
        "  FROM home_sales\n",
        "  GROUP BY view\n",
        "  HAVING avg_price >= 350000\n",
        "  ORDER BY avg_price DESC\n",
        "\"\"\")\n",
        "avg_price_by_view_cached.show()\n",
        "print(\"--- %s seconds ---\" % (time.time() - start_time))\n"
      ]
    },
    {
      "cell_type": "code",
      "execution_count": 12,
      "metadata": {
        "id": "Qm12WN9isHBR"
      },
      "outputs": [],
      "source": [
        "# 10. Partition by the \"date_built\" field on the formatted parquet home sales data\n",
        "df.write.partitionBy(\"date_built\").parquet(\"home_sales_partitioned.parquet\", mode = \"overwrite\")"
      ]
    },
    {
      "cell_type": "code",
      "execution_count": 13,
      "metadata": {
        "id": "AZ7BgY61sRqY"
      },
      "outputs": [],
      "source": [
        "# 11. Read the parquet formatted data.\n",
        "df_parquet = spark.read.parquet(\"home_sales_partitioned.parquet\")"
      ]
    },
    {
      "cell_type": "code",
      "execution_count": 14,
      "metadata": {
        "id": "J6MJkHfvVcvh"
      },
      "outputs": [],
      "source": [
        "# 12. Create a temporary table for the parquet data.\n",
        "df_parquet.createOrReplaceTempView(\"home_sales_parquet\")"
      ]
    },
    {
      "cell_type": "code",
      "execution_count": 15,
      "metadata": {
        "colab": {
          "base_uri": "https://localhost:8080/"
        },
        "id": "G_Vhb52rU1Sn",
        "outputId": "d81bbca0-90c6-416f-a6c7-08cdd65a873b"
      },
      "outputs": [
        {
          "output_type": "stream",
          "name": "stdout",
          "text": [
            "+----+----------+\n",
            "|view| avg_price|\n",
            "+----+----------+\n",
            "|  91|1137372.73|\n",
            "|  97|1129040.15|\n",
            "|  84|1117233.13|\n",
            "|  75|1114042.94|\n",
            "|  89|1107839.15|\n",
            "|  78|1080649.37|\n",
            "|  77|1076205.56|\n",
            "|  87| 1072285.2|\n",
            "|  86|1070444.25|\n",
            "|  82| 1063498.0|\n",
            "|  90|1062654.16|\n",
            "|  99|1061201.42|\n",
            "|  76|1058802.78|\n",
            "|  85|1056336.74|\n",
            "|  95| 1054325.6|\n",
            "|  98|1053739.33|\n",
            "|  81|1053472.79|\n",
            "|  83|1033965.93|\n",
            "|  94| 1033536.2|\n",
            "|  88|1031719.35|\n",
            "+----+----------+\n",
            "only showing top 20 rows\n",
            "\n",
            "--- 1.1631989479064941 seconds ---\n"
          ]
        }
      ],
      "source": [
        "# 13. Using the parquet DataFrame, run the last query above, that calculates\n",
        "# the average price of a home per \"view\" rating, rounded to two decimal places,\n",
        "# having an average home price greater than or equal to $350,000.\n",
        "# Determine the runtime and compare it to the cached runtime.\n",
        "start_time = time.time()\n",
        "avg_price_by_view_parquet = spark.sql(\"\"\"\n",
        "  SELECT view, ROUND(AVG(price), 2) as avg_price\n",
        "  FROM home_sales_parquet\n",
        "  GROUP BY view\n",
        "  HAVING avg_price >= 350000\n",
        "  ORDER BY avg_price DESC\n",
        "\"\"\")\n",
        "avg_price_by_view_parquet.show()\n",
        "print(\"--- %s seconds ---\" % (time.time() - start_time))"
      ]
    },
    {
      "cell_type": "code",
      "execution_count": 16,
      "metadata": {
        "id": "hjjYzQGjtbq8",
        "colab": {
          "base_uri": "https://localhost:8080/"
        },
        "outputId": "671b706f-809a-4dec-f3c8-a589110cb3db"
      },
      "outputs": [
        {
          "output_type": "execute_result",
          "data": {
            "text/plain": [
              "DataFrame[]"
            ]
          },
          "metadata": {},
          "execution_count": 16
        }
      ],
      "source": [
        "# 14. Uncache the home_sales temporary table.\n",
        "spark.sql(\"UNCACHE TABLE home_sales\")"
      ]
    },
    {
      "cell_type": "code",
      "execution_count": 17,
      "metadata": {
        "id": "Sy9NBvO7tlmm",
        "colab": {
          "base_uri": "https://localhost:8080/"
        },
        "outputId": "fc261502-75a1-4bae-b603-d36beac5d171"
      },
      "outputs": [
        {
          "output_type": "execute_result",
          "data": {
            "text/plain": [
              "False"
            ]
          },
          "metadata": {},
          "execution_count": 17
        }
      ],
      "source": [
        "# 15. Check if the home_sales is no longer cached\n",
        "spark.catalog.isCached('home_sales')"
      ]
    },
    {
      "cell_type": "code",
      "execution_count": null,
      "metadata": {
        "id": "Si-BNruRUGK3"
      },
      "outputs": [],
      "source": []
    }
  ],
  "metadata": {
    "colab": {
      "provenance": []
    },
    "gpuClass": "standard",
    "kernelspec": {
      "display_name": "Python 3 (ipykernel)",
      "language": "python",
      "name": "python3"
    },
    "language_info": {
      "codemirror_mode": {
        "name": "ipython",
        "version": 3
      },
      "file_extension": ".py",
      "mimetype": "text/x-python",
      "name": "python",
      "nbconvert_exporter": "python",
      "pygments_lexer": "ipython3",
      "version": "3.10.4"
    },
    "nteract": {
      "version": "0.28.0"
    }
  },
  "nbformat": 4,
  "nbformat_minor": 0
}